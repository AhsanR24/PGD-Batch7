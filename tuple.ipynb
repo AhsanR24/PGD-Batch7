{
 "cells": [
  {
   "cell_type": "code",
   "execution_count": 2,
   "id": "57f5ea58",
   "metadata": {},
   "outputs": [
    {
     "name": "stdout",
     "output_type": "stream",
     "text": [
      "Original Dictionary to explain delete function: {'apple': 2, 'banana': 3, 'cherry': 5}\n"
     ]
    }
   ],
   "source": [
    "my_dict = {\"apple\": 2, \"banana\": 3, \"cherry\": 5}\n",
    "print(\"Original Dictionary to explain delete function:\", my_dict)\n",
    "\n"
   ]
  },
  {
   "cell_type": "code",
   "execution_count": null,
   "id": "f0f41bc2",
   "metadata": {},
   "outputs": [],
   "source": []
  },
  {
   "cell_type": "code",
   "execution_count": 3,
   "id": "265abf4b",
   "metadata": {},
   "outputs": [],
   "source": [
    "# Deleting an item\n",
    "del my_dict[\"banana\"]"
   ]
  },
  {
   "cell_type": "code",
   "execution_count": 4,
   "id": "44418116",
   "metadata": {},
   "outputs": [
    {
     "data": {
      "text/plain": [
       "{'apple': 2, 'cherry': 5}"
      ]
     },
     "execution_count": 4,
     "metadata": {},
     "output_type": "execute_result"
    }
   ],
   "source": [
    "my_dict"
   ]
  },
  {
   "cell_type": "markdown",
   "id": "e1209580",
   "metadata": {},
   "source": [
    "Create a Python program that demonstrates the creation of a simple dictionary representing information about your favorite book, movie, or hobby. The dictionary should contain at least three key-value pairs, such as \"title\", \"author/director\", and \"genre\" for a book or movie, or \"name\", \"age\", and \"hobby\" for a personal interest."
   ]
  },
  {
   "cell_type": "code",
   "execution_count": 5,
   "id": "167802c2",
   "metadata": {},
   "outputs": [
    {
     "name": "stdout",
     "output_type": "stream",
     "text": [
      "apple\n",
      "banana\n",
      "cherry\n"
     ]
    }
   ],
   "source": [
    "# getting key from for loop \n",
    "\n",
    "# Original dictionary\n",
    "my_dict = {\"apple\": 2, \"banana\": 3, \"cherry\": 5}\n",
    "\n",
    "# Loop to iterate over keys and values\n",
    "for key in my_dict:\n",
    "    print(key)\n",
    "#     print(\"Value:\", my_dict[key])\n",
    "#     print()  # Empty line for readability\n"
   ]
  },
  {
   "cell_type": "code",
   "execution_count": 7,
   "id": "0768fda3",
   "metadata": {},
   "outputs": [
    {
     "data": {
      "text/plain": [
       "2"
      ]
     },
     "execution_count": 7,
     "metadata": {},
     "output_type": "execute_result"
    }
   ],
   "source": [
    "my_dict[\"apple\"]"
   ]
  },
  {
   "cell_type": "code",
   "execution_count": 9,
   "id": "b353ffea",
   "metadata": {},
   "outputs": [
    {
     "name": "stdout",
     "output_type": "stream",
     "text": [
      "key apple\n",
      "value 2\n",
      "key banana\n",
      "value 3\n",
      "key cherry\n",
      "value 5\n"
     ]
    }
   ],
   "source": [
    "for i in my_dict:\n",
    "    print(\"key\",i)\n",
    "    print(\"value\",my_dict[i])"
   ]
  },
  {
   "cell_type": "code",
   "execution_count": 10,
   "id": "0b4e9c7e",
   "metadata": {},
   "outputs": [
    {
     "data": {
      "text/plain": [
       "dict_items([('apple', 2), ('banana', 3), ('cherry', 5)])"
      ]
     },
     "execution_count": 10,
     "metadata": {},
     "output_type": "execute_result"
    }
   ],
   "source": [
    "my_dict.items()"
   ]
  },
  {
   "cell_type": "code",
   "execution_count": 11,
   "id": "7e661f8d",
   "metadata": {},
   "outputs": [
    {
     "name": "stdout",
     "output_type": "stream",
     "text": [
      "apple\n",
      "2\n",
      "banana\n",
      "3\n",
      "cherry\n",
      "5\n"
     ]
    }
   ],
   "source": [
    "for key, value in my_dict.items():\n",
    "    print(key)\n",
    "    print(value)"
   ]
  },
  {
   "cell_type": "markdown",
   "id": "d0eeb78e",
   "metadata": {},
   "source": [
    "# TUPLE:\n",
    "  \n",
    "   - A tuple is a collection of items that are ordered and immutable, meaning once the tuple is created, you cannot change its elements.\n",
    "   - Tuples are denoted by parentheses `( )`.\n",
    "   - Elements in a tuple are accessed by their index, similar to lists.\n",
    "   - Example: `my_tuple = (1, 2, 3, 4, 5)`"
   ]
  },
  {
   "cell_type": "markdown",
   "id": "c635226c",
   "metadata": {},
   "source": [
    "# Creating a Tuple:"
   ]
  },
  {
   "cell_type": "code",
   "execution_count": 12,
   "id": "0ec21b6f",
   "metadata": {},
   "outputs": [
    {
     "name": "stdout",
     "output_type": "stream",
     "text": [
      "(1, 2, 3, 4, 5)\n"
     ]
    }
   ],
   "source": [
    "# Creating a tuple\n",
    "my_tuple = (1, 2, 3, 4, 5)\n",
    "print(my_tuple)  # Output: (1, 2, 3, 4, 5)\n"
   ]
  },
  {
   "cell_type": "markdown",
   "id": "b69cd64d",
   "metadata": {},
   "source": [
    "# Accessing Elements:"
   ]
  },
  {
   "cell_type": "code",
   "execution_count": 13,
   "id": "ecafc179",
   "metadata": {},
   "outputs": [
    {
     "name": "stdout",
     "output_type": "stream",
     "text": [
      "1\n",
      "3\n"
     ]
    }
   ],
   "source": [
    "# Accessing elements of a tuple\n",
    "my_tuple = (1, 2, 3, 4, 5)\n",
    "   # INDEXING       (0,1,2,.....)  it does have neg\n",
    "print(my_tuple[0])  # Output: 1\n",
    "print(my_tuple[-3])  # Output: 4\n"
   ]
  },
  {
   "cell_type": "markdown",
   "id": "27d24f0c",
   "metadata": {},
   "source": [
    "# Tuple Packing and Unpacking:"
   ]
  },
  {
   "cell_type": "code",
   "execution_count": 14,
   "id": "12978c16",
   "metadata": {},
   "outputs": [
    {
     "name": "stdout",
     "output_type": "stream",
     "text": [
      "(1, 2, 3)\n"
     ]
    }
   ],
   "source": [
    "# Tuple packing and unpacking\n",
    "my_tuple = 1, 2, 3  # Packing\n",
    "print(my_tuple)    # Output: (1, 2, 3)\n",
    "\n"
   ]
  },
  {
   "cell_type": "code",
   "execution_count": 17,
   "id": "8ac9d6b1",
   "metadata": {},
   "outputs": [
    {
     "name": "stdout",
     "output_type": "stream",
     "text": [
      "('hello', 'my', 'error', 'python')\n"
     ]
    },
    {
     "data": {
      "text/plain": [
       "tuple"
      ]
     },
     "execution_count": 17,
     "metadata": {},
     "output_type": "execute_result"
    }
   ],
   "source": [
    "my = \"hello\",\"my\",\"error\",\"python\"\n",
    "print(my)\n",
    "type(my)"
   ]
  },
  {
   "cell_type": "code",
   "execution_count": 18,
   "id": "c20f21e5",
   "metadata": {},
   "outputs": [
    {
     "name": "stdout",
     "output_type": "stream",
     "text": [
      "1 2 3\n"
     ]
    }
   ],
   "source": [
    "x, y, z = my_tuple  # Unpacking\n",
    "print(x, y, z)      # Output: 1 2 3\n"
   ]
  },
  {
   "cell_type": "code",
   "execution_count": null,
   "id": "48308a1f",
   "metadata": {},
   "outputs": [],
   "source": []
  },
  {
   "cell_type": "markdown",
   "id": "ec1c7c24",
   "metadata": {},
   "source": [
    "# Concatenating Tuples:\n"
   ]
  },
  {
   "cell_type": "code",
   "execution_count": 21,
   "id": "1cdafa9a",
   "metadata": {},
   "outputs": [
    {
     "name": "stdout",
     "output_type": "stream",
     "text": [
      "(4, 2, 3, 4, 5, 5)\n"
     ]
    }
   ],
   "source": [
    "# Concatenating tuples\n",
    "tuple1 = (4, 2, 3)\n",
    "tuple2 = (4, 5, 5)\n",
    "concatenated_tuple = tuple1 + tuple2\n",
    "print(concatenated_tuple)  \n"
   ]
  },
  {
   "cell_type": "markdown",
   "id": "253db513",
   "metadata": {},
   "source": [
    "# Repeat tuple:"
   ]
  },
  {
   "cell_type": "code",
   "execution_count": 22,
   "id": "28951841",
   "metadata": {},
   "outputs": [
    {
     "data": {
      "text/plain": [
       "(4, 2, 3, 4, 2, 3, 4, 2, 3, 4, 2, 3)"
      ]
     },
     "execution_count": 22,
     "metadata": {},
     "output_type": "execute_result"
    }
   ],
   "source": [
    "# Concatenating tuples\n",
    "tuple1 = (4, 2, 3)\n",
    "repeat = tuple1*4\n",
    "repeat"
   ]
  },
  {
   "cell_type": "code",
   "execution_count": 23,
   "id": "6c3477e5",
   "metadata": {},
   "outputs": [
    {
     "name": "stdout",
     "output_type": "stream",
     "text": [
      "False\n"
     ]
    }
   ],
   "source": [
    "print(6 in tuple1)"
   ]
  },
  {
   "cell_type": "code",
   "execution_count": 24,
   "id": "94ce5d92",
   "metadata": {},
   "outputs": [
    {
     "data": {
      "text/plain": [
       "(4, 2, 3)"
      ]
     },
     "execution_count": 24,
     "metadata": {},
     "output_type": "execute_result"
    }
   ],
   "source": [
    "tuple1 "
   ]
  },
  {
   "cell_type": "code",
   "execution_count": 27,
   "id": "8d515c66",
   "metadata": {},
   "outputs": [
    {
     "ename": "ValueError",
     "evalue": "too many values to unpack (expected 2)",
     "output_type": "error",
     "traceback": [
      "\u001b[1;31m---------------------------------------------------------------------------\u001b[0m",
      "\u001b[1;31mValueError\u001b[0m                                Traceback (most recent call last)",
      "Cell \u001b[1;32mIn[27], line 1\u001b[0m\n\u001b[1;32m----> 1\u001b[0m a,b \u001b[38;5;241m=\u001b[39m tuple1\n",
      "\u001b[1;31mValueError\u001b[0m: too many values to unpack (expected 2)"
     ]
    }
   ],
   "source": [
    "a,b = tuple1"
   ]
  },
  {
   "cell_type": "code",
   "execution_count": 26,
   "id": "f5d9deeb",
   "metadata": {},
   "outputs": [
    {
     "data": {
      "text/plain": [
       "4"
      ]
     },
     "execution_count": 26,
     "metadata": {},
     "output_type": "execute_result"
    }
   ],
   "source": [
    "a"
   ]
  },
  {
   "cell_type": "markdown",
   "id": "10a1b500",
   "metadata": {},
   "source": [
    "task:print tuple using for loop"
   ]
  },
  {
   "cell_type": "markdown",
   "id": "608fc4e2",
   "metadata": {},
   "source": [
    "# Introduction to pandas"
   ]
  },
  {
   "cell_type": "code",
   "execution_count": 28,
   "id": "48190b49",
   "metadata": {},
   "outputs": [],
   "source": [
    "import pandas as pd \n",
    "#import pandas "
   ]
  },
  {
   "cell_type": "code",
   "execution_count": null,
   "id": "609dd9b4",
   "metadata": {},
   "outputs": [],
   "source": []
  }
 ],
 "metadata": {
  "kernelspec": {
   "display_name": "Python 3 (ipykernel)",
   "language": "python",
   "name": "python3"
  },
  "language_info": {
   "codemirror_mode": {
    "name": "ipython",
    "version": 3
   },
   "file_extension": ".py",
   "mimetype": "text/x-python",
   "name": "python",
   "nbconvert_exporter": "python",
   "pygments_lexer": "ipython3",
   "version": "3.11.5"
  }
 },
 "nbformat": 4,
 "nbformat_minor": 5
}
